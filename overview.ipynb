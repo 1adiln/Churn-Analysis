{
 "cells": [
  {
   "cell_type": "markdown",
   "id": "495a6e15",
   "metadata": {},
   "source": [
    "Task: Customer Churn Analysis for a Telecom Provider\n",
    "Expected duration: 5 days\n",
    "Task Overview\n",
    "Analytical Challenge and Business Context\n",
    "A telecom provider is facing high customer churn rates and needs to understand why customers are leaving. The task is to analyze customer data to identify churn drivers and recommend retention strategies.\n",
    "\n",
    "Expected Deliverables and Success Criteria\n",
    "Deliverables:\n",
    "A Python or R script for EDA and statistical analysis.\n",
    "A 2-3 page report with churn drivers and retention recommendations.\n",
    "Visualizations (e.g., churn rate by plan, correlation heatmap).\n",
    "Success Criteria:\n",
    "Identify at least 3 significant churn drivers (p-value < 0.05).\n",
    "Recommendations are actionable and tied to data.\n",
    "Visualizations clearly show churn patterns.\n",
    "Mock Dataset\n",
    "Dataset 1: Customer Records (CSV, 15,000 rows)\n",
    "Columns: CustomerID, PlanType (e.g., Prepaid, Postpaid), MonthlyBill (USD), Tenure (months), Churn (Y/N), Complaints (count).\n",
    "Complexities: 10% missing Complaints, outliers in MonthlyBill.\n",
    "Dataset 2: Customer Interactions (CSV, 20,000 rows)\n",
    "Columns: CustomerID, InteractionDate, InteractionType (e.g., Call, Email), IssueResolved (Y/N).\n",
    "Complexities: 5% missing IssueResolved, multiple interactions per customer.\n",
    "Dataset 3: Demographic Data (CSV, 15,000 rows)\n",
    "Columns: CustomerID, Age, Region, DeviceType.\n",
    "Complexities: 7% missing Region, categorical variables need encoding.\n",
    "Analytical Techniques and Tools\n",
    "Techniques:\n",
    "Data cleaning: Impute missing values, handle outliers.\n",
    "EDA: Calculate churn rates, correlation analysis.\n",
    "Statistical analysis: Logistic regression or chi-square tests to identify churn drivers.\n",
    "Visualization: Bar charts, heatmaps, survival curves.\n",
    "Tools:\n",
    "Python (pandas, statsmodels, seaborn) or R (dplyr, ggplot2, survival).\n",
    "SQL for joining and aggregating data.\n",
    "Excel for initial exploration.\n",
    "Evaluation Metrics\n",
    "Statistical Rigor: At least 3 drivers with p-value < 0.05; logistic regression AUC > 0.7.\n",
    "Data Quality: >95% of missing values resolved; outliers justified.\n",
    "Report Quality: Recommendations are specific (e.g., “Offer discounts to high-Complaints customers”).\n",
    "Visualization: Includes at least 3 visuals (e.g., churn rate by PlanType).\n",
    "Time Estimate: 10h data cleaning, 10h EDA, 10h statistical analysis, 5h visualization, 5h report writing."
   ]
  }
 ],
 "metadata": {
  "kernelspec": {
   "display_name": "python_eda",
   "language": "python",
   "name": "python3"
  },
  "language_info": {
   "name": "python",
   "version": "3.13.2"
  }
 },
 "nbformat": 4,
 "nbformat_minor": 5
}
